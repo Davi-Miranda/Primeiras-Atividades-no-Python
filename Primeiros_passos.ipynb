{
 "cells": [
  {
   "cell_type": "code",
   "execution_count": 54,
   "id": "91f6279f",
   "metadata": {},
   "outputs": [],
   "source": [
    "#Imprimindo uma string"
   ]
  },
  {
   "cell_type": "code",
   "execution_count": 55,
   "id": "76e4a463",
   "metadata": {},
   "outputs": [],
   "source": [
    "s = 'olá mundo'"
   ]
  },
  {
   "cell_type": "code",
   "execution_count": 56,
   "id": "cc4c5520",
   "metadata": {},
   "outputs": [
    {
     "data": {
      "text/plain": [
       "str"
      ]
     },
     "execution_count": 56,
     "metadata": {},
     "output_type": "execute_result"
    }
   ],
   "source": [
    "type(s)"
   ]
  },
  {
   "cell_type": "code",
   "execution_count": 57,
   "id": "f97760c5",
   "metadata": {},
   "outputs": [
    {
     "data": {
      "text/plain": [
       "9"
      ]
     },
     "execution_count": 57,
     "metadata": {},
     "output_type": "execute_result"
    }
   ],
   "source": [
    "len(s)"
   ]
  },
  {
   "cell_type": "code",
   "execution_count": 58,
   "id": "f85e2787",
   "metadata": {},
   "outputs": [
    {
     "name": "stdout",
     "output_type": "stream",
     "text": [
      "olá mundo\n"
     ]
    }
   ],
   "source": [
    "print(s)"
   ]
  },
  {
   "cell_type": "code",
   "execution_count": 59,
   "id": "3c65873d",
   "metadata": {},
   "outputs": [],
   "source": [
    "#Concatenação de strings"
   ]
  },
  {
   "cell_type": "code",
   "execution_count": 60,
   "id": "607adfaa",
   "metadata": {},
   "outputs": [
    {
     "name": "stdout",
     "output_type": "stream",
     "text": [
      "Meu brasilBrasileiro\n"
     ]
    }
   ],
   "source": [
    "print('Meu brasil' + 'Brasileiro')"
   ]
  },
  {
   "cell_type": "code",
   "execution_count": 61,
   "id": "c7984b09",
   "metadata": {},
   "outputs": [],
   "source": [
    "#Substitui uma substring por alguma outra coisa"
   ]
  },
  {
   "cell_type": "code",
   "execution_count": 62,
   "id": "4085cb9e",
   "metadata": {},
   "outputs": [],
   "source": [
    "s1 = s.replace('mundo', 'alou')"
   ]
  },
  {
   "cell_type": "code",
   "execution_count": 63,
   "id": "9b86f0fe",
   "metadata": {},
   "outputs": [
    {
     "name": "stdout",
     "output_type": "stream",
     "text": [
      "olá alou\n"
     ]
    }
   ],
   "source": [
    "print(s1)"
   ]
  },
  {
   "cell_type": "code",
   "execution_count": 64,
   "id": "b1033bdf",
   "metadata": {},
   "outputs": [],
   "source": [
    "#A string s começa com ola?"
   ]
  },
  {
   "cell_type": "code",
   "execution_count": 68,
   "id": "8a36381d",
   "metadata": {},
   "outputs": [
    {
     "name": "stdout",
     "output_type": "stream",
     "text": [
      "True\n"
     ]
    }
   ],
   "source": [
    "print(s.startswith(\"olá\"))"
   ]
  },
  {
   "cell_type": "code",
   "execution_count": 69,
   "id": "504adbbb",
   "metadata": {},
   "outputs": [],
   "source": [
    "#A string s termina com mundo?"
   ]
  },
  {
   "cell_type": "code",
   "execution_count": 73,
   "id": "04537794",
   "metadata": {},
   "outputs": [
    {
     "name": "stdout",
     "output_type": "stream",
     "text": [
      "True\n"
     ]
    }
   ],
   "source": [
    "print(s.endswith('alou'))"
   ]
  },
  {
   "cell_type": "code",
   "execution_count": 74,
   "id": "c9f4aa45",
   "metadata": {},
   "outputs": [],
   "source": [
    "#Quantas ocorrências da palavra alou a string s1 possui?"
   ]
  },
  {
   "cell_type": "code",
   "execution_count": 76,
   "id": "0634b23f",
   "metadata": {},
   "outputs": [
    {
     "name": "stdout",
     "output_type": "stream",
     "text": [
      "1\n"
     ]
    }
   ],
   "source": [
    "print(s1.count('alou'))"
   ]
  },
  {
   "cell_type": "code",
   "execution_count": 77,
   "id": "6e82887c",
   "metadata": {},
   "outputs": [],
   "source": [
    "#Como 'capitalizar': (transformar a primeira letra de uma string maiuscula' "
   ]
  },
  {
   "cell_type": "code",
   "execution_count": 78,
   "id": "b0183a76",
   "metadata": {},
   "outputs": [],
   "source": [
    "s2 = 'davi mentiu'"
   ]
  },
  {
   "cell_type": "code",
   "execution_count": 79,
   "id": "a5ee405e",
   "metadata": {},
   "outputs": [
    {
     "name": "stdout",
     "output_type": "stream",
     "text": [
      "Davi mentiu\n"
     ]
    }
   ],
   "source": [
    "print(s2.capitalize())"
   ]
  },
  {
   "cell_type": "code",
   "execution_count": 80,
   "id": "3488e94b",
   "metadata": {},
   "outputs": [],
   "source": [
    "#Como verificar se uma string só possui numeros"
   ]
  },
  {
   "cell_type": "code",
   "execution_count": 81,
   "id": "c64a653f",
   "metadata": {},
   "outputs": [
    {
     "data": {
      "text/plain": [
       "True"
      ]
     },
     "execution_count": 81,
     "metadata": {},
     "output_type": "execute_result"
    }
   ],
   "source": [
    "'1234'.isdigit()"
   ]
  },
  {
   "cell_type": "code",
   "execution_count": 82,
   "id": "4505987a",
   "metadata": {},
   "outputs": [
    {
     "data": {
      "text/plain": [
       "False"
      ]
     },
     "execution_count": 82,
     "metadata": {},
     "output_type": "execute_result"
    }
   ],
   "source": [
    "'123abc'.isdigit()"
   ]
  },
  {
   "cell_type": "code",
   "execution_count": 83,
   "id": "3d9fb8a0",
   "metadata": {},
   "outputs": [
    {
     "data": {
      "text/plain": [
       "False"
      ]
     },
     "execution_count": 83,
     "metadata": {},
     "output_type": "execute_result"
    }
   ],
   "source": [
    "s2.isdigit()"
   ]
  },
  {
   "cell_type": "code",
   "execution_count": 84,
   "id": "898f71dc",
   "metadata": {},
   "outputs": [],
   "source": [
    "#Como verificar se uma string é alfanumerica (só possui letras e numeros)"
   ]
  },
  {
   "cell_type": "code",
   "execution_count": 85,
   "id": "45352409",
   "metadata": {},
   "outputs": [
    {
     "data": {
      "text/plain": [
       "False"
      ]
     },
     "execution_count": 85,
     "metadata": {},
     "output_type": "execute_result"
    }
   ],
   "source": [
    "s2.isalnum()"
   ]
  },
  {
   "cell_type": "code",
   "execution_count": 86,
   "id": "c57cc2e0",
   "metadata": {},
   "outputs": [
    {
     "data": {
      "text/plain": [
       "True"
      ]
     },
     "execution_count": 86,
     "metadata": {},
     "output_type": "execute_result"
    }
   ],
   "source": [
    "'123asd'.isalnum()"
   ]
  },
  {
   "cell_type": "code",
   "execution_count": 87,
   "id": "1a2fd4bf",
   "metadata": {},
   "outputs": [],
   "source": [
    "#Substrings em Phyton (slicing)"
   ]
  },
  {
   "cell_type": "code",
   "execution_count": 88,
   "id": "480aad9e",
   "metadata": {},
   "outputs": [
    {
     "name": "stdout",
     "output_type": "stream",
     "text": [
      "d\n"
     ]
    }
   ],
   "source": [
    "print(s2[0])"
   ]
  },
  {
   "cell_type": "code",
   "execution_count": 89,
   "id": "e8e36af9",
   "metadata": {},
   "outputs": [],
   "source": [
    "s3 = 'Paralelepipedo alegre'"
   ]
  },
  {
   "cell_type": "code",
   "execution_count": 90,
   "id": "b4e4e90a",
   "metadata": {},
   "outputs": [
    {
     "name": "stdout",
     "output_type": "stream",
     "text": [
      "e\n"
     ]
    }
   ],
   "source": [
    "print(s3[5])"
   ]
  },
  {
   "cell_type": "code",
   "execution_count": 91,
   "id": "7bc0ddb0",
   "metadata": {},
   "outputs": [
    {
     "name": "stdout",
     "output_type": "stream",
     "text": [
      "a\n"
     ]
    }
   ],
   "source": [
    "print(s3[15])"
   ]
  },
  {
   "cell_type": "code",
   "execution_count": 92,
   "id": "779ba179",
   "metadata": {},
   "outputs": [
    {
     "name": "stdout",
     "output_type": "stream",
     "text": [
      " \n"
     ]
    }
   ],
   "source": [
    "print(s3[14])"
   ]
  },
  {
   "cell_type": "code",
   "execution_count": 93,
   "id": "24812aaa",
   "metadata": {},
   "outputs": [
    {
     "name": "stdout",
     "output_type": "stream",
     "text": [
      "e\n"
     ]
    }
   ],
   "source": [
    "print(s3[-1])"
   ]
  },
  {
   "cell_type": "code",
   "execution_count": 94,
   "id": "d4deef4f",
   "metadata": {},
   "outputs": [
    {
     "data": {
      "text/plain": [
       "'Par'"
      ]
     },
     "execution_count": 94,
     "metadata": {},
     "output_type": "execute_result"
    }
   ],
   "source": [
    "s3[0:3]"
   ]
  },
  {
   "cell_type": "code",
   "execution_count": 95,
   "id": "a2363892",
   "metadata": {},
   "outputs": [
    {
     "data": {
      "text/plain": [
       "'alegr'"
      ]
     },
     "execution_count": 95,
     "metadata": {},
     "output_type": "execute_result"
    }
   ],
   "source": [
    "s3[15:20]"
   ]
  },
  {
   "cell_type": "code",
   "execution_count": 96,
   "id": "219060fc",
   "metadata": {},
   "outputs": [
    {
     "name": "stdout",
     "output_type": "stream",
     "text": [
      "Par\n"
     ]
    }
   ],
   "source": [
    "print(s3[:3])"
   ]
  },
  {
   "cell_type": "code",
   "execution_count": 97,
   "id": "cd2ed4fe",
   "metadata": {},
   "outputs": [
    {
     "name": "stdout",
     "output_type": "stream",
     "text": [
      "Paralelepipedo alegre\n"
     ]
    }
   ],
   "source": [
    "print(s3[:])"
   ]
  },
  {
   "cell_type": "code",
   "execution_count": 98,
   "id": "78356b01",
   "metadata": {},
   "outputs": [
    {
     "name": "stdout",
     "output_type": "stream",
     "text": [
      "alelepipedo alegre\n"
     ]
    }
   ],
   "source": [
    "print(s3[3:])"
   ]
  },
  {
   "cell_type": "code",
   "execution_count": 99,
   "id": "54980725",
   "metadata": {},
   "outputs": [],
   "source": [
    "#Imprimir os caracteres nos indices pares e impares"
   ]
  },
  {
   "cell_type": "code",
   "execution_count": 100,
   "id": "2a6c080e",
   "metadata": {},
   "outputs": [
    {
     "name": "stdout",
     "output_type": "stream",
     "text": [
      "Prllppd lge\n"
     ]
    }
   ],
   "source": [
    "print(s3[::2]) #par"
   ]
  },
  {
   "cell_type": "code",
   "execution_count": 101,
   "id": "fcbcfb3a",
   "metadata": {},
   "outputs": [
    {
     "name": "stdout",
     "output_type": "stream",
     "text": [
      "aaeeieoaer\n"
     ]
    }
   ],
   "source": [
    "print(s3[1::2]) #impar"
   ]
  },
  {
   "cell_type": "code",
   "execution_count": 102,
   "id": "b039e367",
   "metadata": {},
   "outputs": [],
   "source": [
    "#A função print concatena strings com espaço entre elas"
   ]
  },
  {
   "cell_type": "code",
   "execution_count": 104,
   "id": "db3f10d7",
   "metadata": {},
   "outputs": [
    {
     "name": "stdout",
     "output_type": "stream",
     "text": [
      "Louco Abalo Davi\n"
     ]
    }
   ],
   "source": [
    "print('Louco', 'Abalo', 'Davi')"
   ]
  },
  {
   "cell_type": "code",
   "execution_count": 105,
   "id": "69725efe",
   "metadata": {},
   "outputs": [],
   "source": [
    "#A função print converte números para string"
   ]
  },
  {
   "cell_type": "code",
   "execution_count": 106,
   "id": "f4a617fa",
   "metadata": {},
   "outputs": [
    {
     "name": "stdout",
     "output_type": "stream",
     "text": [
      "1984 George Orwell\n"
     ]
    }
   ],
   "source": [
    "print(1984, 'George Orwell')"
   ]
  },
  {
   "cell_type": "code",
   "execution_count": 107,
   "id": "16763cb6",
   "metadata": {},
   "outputs": [],
   "source": [
    "#As strings somadas com + são concatenas sem espaço entre elas"
   ]
  },
  {
   "cell_type": "code",
   "execution_count": 108,
   "id": "86601570",
   "metadata": {},
   "outputs": [
    {
     "name": "stdout",
     "output_type": "stream",
     "text": [
      "#aloumundão\n"
     ]
    }
   ],
   "source": [
    "print('#' + \"alou\" + \"mundão\")"
   ]
  },
  {
   "cell_type": "code",
   "execution_count": 109,
   "id": "7155dba0",
   "metadata": {},
   "outputs": [],
   "source": [
    "#Forma mais avançada de formatação de string"
   ]
  },
  {
   "cell_type": "code",
   "execution_count": 113,
   "id": "d1888da0",
   "metadata": {},
   "outputs": [
    {
     "name": "stdout",
     "output_type": "stream",
     "text": [
      "Um triangulo com base igual a 3 e altura igual a 4 possui area igual a 12.\n"
     ]
    }
   ],
   "source": [
    "frase = 'Um triangulo com base igual a {0} e altura igual a {1} possui area igual a {2}.' .format(3, 4, 12)\n",
    "print(frase)"
   ]
  },
  {
   "cell_type": "code",
   "execution_count": 114,
   "id": "cef53aef",
   "metadata": {},
   "outputs": [
    {
     "name": "stdout",
     "output_type": "stream",
     "text": [
      "O homem de 2 metros está a 5 metros do chão.\n"
     ]
    }
   ],
   "source": [
    "frase2 = 'O homem de {0} metros está a {1} metros do chão.' .format(2, 5)\n",
    "print(frase2)"
   ]
  },
  {
   "cell_type": "code",
   "execution_count": 115,
   "id": "f27e0b06",
   "metadata": {},
   "outputs": [],
   "source": [
    "#Formatação de strings com f-strings"
   ]
  },
  {
   "cell_type": "code",
   "execution_count": 117,
   "id": "cc7743df",
   "metadata": {},
   "outputs": [
    {
     "name": "stdout",
     "output_type": "stream",
     "text": [
      "programando em phyton\n"
     ]
    }
   ],
   "source": [
    "linguagem = 'phyton'\n",
    "frase3 = f\"programando em {linguagem}\"\n",
    "print(frase3)"
   ]
  },
  {
   "cell_type": "code",
   "execution_count": 119,
   "id": "50ac32ba",
   "metadata": {},
   "outputs": [],
   "source": [
    "#Estruturas complexas em Phyton"
   ]
  },
  {
   "cell_type": "code",
   "execution_count": 120,
   "id": "1751a351",
   "metadata": {},
   "outputs": [],
   "source": [
    "primeira_lista = [1,2,3]"
   ]
  },
  {
   "cell_type": "code",
   "execution_count": 121,
   "id": "014a11f5",
   "metadata": {},
   "outputs": [
    {
     "name": "stdout",
     "output_type": "stream",
     "text": [
      "[1, 2, 3]\n"
     ]
    }
   ],
   "source": [
    "print(primeira_lista)"
   ]
  },
  {
   "cell_type": "code",
   "execution_count": 123,
   "id": "66a1c023",
   "metadata": {},
   "outputs": [],
   "source": [
    "segunda_lista = ['Davi', 123, False]"
   ]
  },
  {
   "cell_type": "code",
   "execution_count": 124,
   "id": "26c91582",
   "metadata": {},
   "outputs": [
    {
     "name": "stdout",
     "output_type": "stream",
     "text": [
      "['Davi', 123, False]\n"
     ]
    }
   ],
   "source": [
    "print(segunda_lista)"
   ]
  },
  {
   "cell_type": "code",
   "execution_count": 125,
   "id": "d6ab843e",
   "metadata": {},
   "outputs": [
    {
     "data": {
      "text/plain": [
       "'Davi'"
      ]
     },
     "execution_count": 125,
     "metadata": {},
     "output_type": "execute_result"
    }
   ],
   "source": [
    "segunda_lista[0]"
   ]
  },
  {
   "cell_type": "code",
   "execution_count": 126,
   "id": "6b369237",
   "metadata": {},
   "outputs": [
    {
     "data": {
      "text/plain": [
       "False"
      ]
     },
     "execution_count": 126,
     "metadata": {},
     "output_type": "execute_result"
    }
   ],
   "source": [
    "segunda_lista[-1]"
   ]
  },
  {
   "cell_type": "code",
   "execution_count": 128,
   "id": "83c01169",
   "metadata": {},
   "outputs": [],
   "source": [
    "segunda_lista.append('alou')"
   ]
  },
  {
   "cell_type": "code",
   "execution_count": 129,
   "id": "3e0e0eec",
   "metadata": {},
   "outputs": [
    {
     "name": "stdout",
     "output_type": "stream",
     "text": [
      "['Davi', 123, False, 'alou']\n"
     ]
    }
   ],
   "source": [
    "#O comando append adiciona valores a lista ao ultimo lugar\n",
    "print(segunda_lista)"
   ]
  },
  {
   "cell_type": "code",
   "execution_count": 130,
   "id": "a5ce9c70",
   "metadata": {},
   "outputs": [],
   "source": [
    "#Para remover elementos da lista usar o comando del\n",
    "del segunda_lista[0]"
   ]
  },
  {
   "cell_type": "code",
   "execution_count": 131,
   "id": "82f1d75c",
   "metadata": {},
   "outputs": [
    {
     "name": "stdout",
     "output_type": "stream",
     "text": [
      "[123, False, 'alou']\n"
     ]
    }
   ],
   "source": [
    "print(segunda_lista)"
   ]
  },
  {
   "cell_type": "code",
   "execution_count": 132,
   "id": "3f6be58f",
   "metadata": {},
   "outputs": [],
   "source": [
    "#Alteração de valores da lista\n",
    "segunda_lista[0] = 'Davi'"
   ]
  },
  {
   "cell_type": "code",
   "execution_count": 133,
   "id": "8ddb595b",
   "metadata": {},
   "outputs": [
    {
     "name": "stdout",
     "output_type": "stream",
     "text": [
      "['Davi', False, 'alou']\n"
     ]
    }
   ],
   "source": [
    "print(segunda_lista)"
   ]
  },
  {
   "cell_type": "code",
   "execution_count": 134,
   "id": "df8b9370",
   "metadata": {},
   "outputs": [],
   "source": [
    "#Tuplas uma vez criada não se altera os elementos dela (igual a lista) a diferença na criação é o parenteses\n",
    "primeira_tupla = ('davi', 1, 2.3, False)"
   ]
  },
  {
   "cell_type": "code",
   "execution_count": 135,
   "id": "f90e8749",
   "metadata": {},
   "outputs": [
    {
     "name": "stdout",
     "output_type": "stream",
     "text": [
      "('davi', 1, 2.3, False)\n"
     ]
    }
   ],
   "source": [
    "print(primeira_tupla)"
   ]
  },
  {
   "cell_type": "code",
   "execution_count": 136,
   "id": "a8daaa48",
   "metadata": {},
   "outputs": [
    {
     "data": {
      "text/plain": [
       "tuple"
      ]
     },
     "execution_count": 136,
     "metadata": {},
     "output_type": "execute_result"
    }
   ],
   "source": [
    "type(primeira_tupla)"
   ]
  },
  {
   "cell_type": "code",
   "execution_count": 137,
   "id": "22413fc5",
   "metadata": {},
   "outputs": [
    {
     "data": {
      "text/plain": [
       "1"
      ]
     },
     "execution_count": 137,
     "metadata": {},
     "output_type": "execute_result"
    }
   ],
   "source": [
    "primeira_tupla[1]"
   ]
  },
  {
   "cell_type": "code",
   "execution_count": 138,
   "id": "e7a74f95",
   "metadata": {},
   "outputs": [
    {
     "data": {
      "text/plain": [
       "False"
      ]
     },
     "execution_count": 138,
     "metadata": {},
     "output_type": "execute_result"
    }
   ],
   "source": [
    "primeira_tupla[3]"
   ]
  },
  {
   "cell_type": "code",
   "execution_count": 139,
   "id": "ff7da0de",
   "metadata": {},
   "outputs": [],
   "source": [
    "#Conjunto em phyton {utiliza as chaves} não tem elementos repetidos, e nao ordenado\n",
    "conjunto = {1, 'davi', True}\n"
   ]
  },
  {
   "cell_type": "code",
   "execution_count": 140,
   "id": "609b24c5",
   "metadata": {},
   "outputs": [
    {
     "name": "stdout",
     "output_type": "stream",
     "text": [
      "{1, 'davi'}\n"
     ]
    }
   ],
   "source": [
    "print(conjunto)"
   ]
  },
  {
   "cell_type": "code",
   "execution_count": 143,
   "id": "71bf5061",
   "metadata": {},
   "outputs": [],
   "source": [
    "conjunto.add('+ 1 elemento')"
   ]
  },
  {
   "cell_type": "code",
   "execution_count": 144,
   "id": "80942e0e",
   "metadata": {},
   "outputs": [
    {
     "name": "stdout",
     "output_type": "stream",
     "text": [
      "{1, 'davi', '+ 1 elemento'}\n"
     ]
    }
   ],
   "source": [
    "print(conjunto)"
   ]
  },
  {
   "cell_type": "code",
   "execution_count": 148,
   "id": "3ab4c394",
   "metadata": {},
   "outputs": [
    {
     "data": {
      "text/plain": [
       "'davi'"
      ]
     },
     "execution_count": 148,
     "metadata": {},
     "output_type": "execute_result"
    }
   ],
   "source": [
    "davi = conjunto.pop()\n",
    "davi"
   ]
  },
  {
   "cell_type": "code",
   "execution_count": 149,
   "id": "ecf46851",
   "metadata": {},
   "outputs": [
    {
     "name": "stdout",
     "output_type": "stream",
     "text": [
      "{'+ 1 elemento'}\n"
     ]
    }
   ],
   "source": [
    "print(conjunto)"
   ]
  },
  {
   "cell_type": "code",
   "execution_count": 150,
   "id": "f4271025",
   "metadata": {},
   "outputs": [],
   "source": [
    "#Dicionários em phyton"
   ]
  },
  {
   "cell_type": "code",
   "execution_count": 153,
   "id": "bc77d420",
   "metadata": {},
   "outputs": [],
   "source": [
    "dicionario = {'nome':'davi', 'alou':3}"
   ]
  },
  {
   "cell_type": "code",
   "execution_count": 154,
   "id": "85fcd0c4",
   "metadata": {},
   "outputs": [
    {
     "name": "stdout",
     "output_type": "stream",
     "text": [
      "{'nome': 'davi', 'alou': 3}\n"
     ]
    }
   ],
   "source": [
    "print(dicionario)"
   ]
  },
  {
   "cell_type": "code",
   "execution_count": 155,
   "id": "abc9b414",
   "metadata": {},
   "outputs": [
    {
     "data": {
      "text/plain": [
       "dict"
      ]
     },
     "execution_count": 155,
     "metadata": {},
     "output_type": "execute_result"
    }
   ],
   "source": [
    "type(dicionario)"
   ]
  },
  {
   "cell_type": "code",
   "execution_count": 156,
   "id": "38c1da4f",
   "metadata": {},
   "outputs": [
    {
     "data": {
      "text/plain": [
       "'davi'"
      ]
     },
     "execution_count": 156,
     "metadata": {},
     "output_type": "execute_result"
    }
   ],
   "source": [
    "dicionario['nome']"
   ]
  },
  {
   "cell_type": "code",
   "execution_count": 158,
   "id": "ae4ad49a",
   "metadata": {},
   "outputs": [
    {
     "data": {
      "text/plain": [
       "dict_values(['davi', 3])"
      ]
     },
     "execution_count": 158,
     "metadata": {},
     "output_type": "execute_result"
    }
   ],
   "source": [
    "dicionario.values()"
   ]
  },
  {
   "cell_type": "code",
   "execution_count": 159,
   "id": "6d558e42",
   "metadata": {},
   "outputs": [
    {
     "data": {
      "text/plain": [
       "dict_keys(['nome', 'alou'])"
      ]
     },
     "execution_count": 159,
     "metadata": {},
     "output_type": "execute_result"
    }
   ],
   "source": [
    "dicionario.keys()"
   ]
  },
  {
   "cell_type": "code",
   "execution_count": 160,
   "id": "16244984",
   "metadata": {},
   "outputs": [
    {
     "data": {
      "text/plain": [
       "dict_items([('nome', 'davi'), ('alou', 3)])"
      ]
     },
     "execution_count": 160,
     "metadata": {},
     "output_type": "execute_result"
    }
   ],
   "source": [
    "dicionario.items()"
   ]
  },
  {
   "cell_type": "code",
   "execution_count": 163,
   "id": "504731e0",
   "metadata": {},
   "outputs": [],
   "source": [
    "del dicionario['nome']"
   ]
  },
  {
   "cell_type": "code",
   "execution_count": 164,
   "id": "3fcd5d0a",
   "metadata": {},
   "outputs": [
    {
     "name": "stdout",
     "output_type": "stream",
     "text": [
      "{'alou': 3}\n"
     ]
    }
   ],
   "source": [
    "print(dicionario)"
   ]
  },
  {
   "cell_type": "code",
   "execution_count": 165,
   "id": "2f90d7d0",
   "metadata": {},
   "outputs": [],
   "source": [
    "#Transformando\n",
    "conjunto = list(conjunto)"
   ]
  },
  {
   "cell_type": "code",
   "execution_count": 166,
   "id": "3d3d45d3",
   "metadata": {},
   "outputs": [
    {
     "data": {
      "text/plain": [
       "list"
      ]
     },
     "execution_count": 166,
     "metadata": {},
     "output_type": "execute_result"
    }
   ],
   "source": [
    "type(conjunto)"
   ]
  },
  {
   "cell_type": "code",
   "execution_count": 173,
   "id": "2c5c8c79",
   "metadata": {},
   "outputs": [],
   "source": [
    "dicionario_davi = ([('df', 'Distrito Federal'), ('go', 'goaias')])"
   ]
  },
  {
   "cell_type": "code",
   "execution_count": 174,
   "id": "d8d9f399",
   "metadata": {},
   "outputs": [
    {
     "data": {
      "text/plain": [
       "list"
      ]
     },
     "execution_count": 174,
     "metadata": {},
     "output_type": "execute_result"
    }
   ],
   "source": [
    "type(dicionario_davi)"
   ]
  },
  {
   "cell_type": "code",
   "execution_count": 175,
   "id": "ebb51612",
   "metadata": {},
   "outputs": [
    {
     "data": {
      "text/plain": [
       "{'df': 'Distrito Federal', 'go': 'goaias'}"
      ]
     },
     "execution_count": 175,
     "metadata": {},
     "output_type": "execute_result"
    }
   ],
   "source": [
    "dict(dicionario_davi)"
   ]
  },
  {
   "cell_type": "code",
   "execution_count": 1,
   "id": "33bcb8c8",
   "metadata": {},
   "outputs": [],
   "source": [
    "#Concatenando listas com extend\n",
    "x = [1,2,3]\n",
    "x.extend([4,5,6])"
   ]
  },
  {
   "cell_type": "code",
   "execution_count": 2,
   "id": "ab6f1ddf",
   "metadata": {},
   "outputs": [
    {
     "name": "stdout",
     "output_type": "stream",
     "text": [
      "[1, 2, 3, 4, 5, 6]\n"
     ]
    }
   ],
   "source": [
    "print(x)"
   ]
  },
  {
   "cell_type": "code",
   "execution_count": 3,
   "id": "7fbcd762",
   "metadata": {},
   "outputs": [],
   "source": [
    "#Controle de fluxo - estrutura de decisão"
   ]
  },
  {
   "cell_type": "code",
   "execution_count": 10,
   "id": "47c0c900",
   "metadata": {},
   "outputs": [],
   "source": [
    "x = 0\n",
    "for x in range(10):\n",
    "    if x == 3:\n",
    "        continue\n",
    "        if x == 5:\n",
    "            break\n",
    "            print(x)\n"
   ]
  },
  {
   "cell_type": "code",
   "execution_count": 9,
   "id": "bede17e8",
   "metadata": {},
   "outputs": [
    {
     "name": "stdout",
     "output_type": "stream",
     "text": [
      "9\n"
     ]
    }
   ],
   "source": [
    "print(x)"
   ]
  },
  {
   "cell_type": "code",
   "execution_count": 13,
   "id": "f9957416",
   "metadata": {},
   "outputs": [
    {
     "name": "stdout",
     "output_type": "stream",
     "text": [
      "correto\n"
     ]
    }
   ],
   "source": [
    "y = 5\n",
    "if y == 5:\n",
    "    print('correto')\n"
   ]
  },
  {
   "cell_type": "code",
   "execution_count": 14,
   "id": "caaf5cbf",
   "metadata": {},
   "outputs": [
    {
     "data": {
      "text/plain": [
       "False"
      ]
     },
     "execution_count": 14,
     "metadata": {},
     "output_type": "execute_result"
    }
   ],
   "source": [
    "y == 3"
   ]
  },
  {
   "cell_type": "code",
   "execution_count": 17,
   "id": "9a4d0d4d",
   "metadata": {},
   "outputs": [
    {
     "name": "stdout",
     "output_type": "stream",
     "text": [
      "Acertou o nome\n"
     ]
    }
   ],
   "source": [
    "nome = 'Leon'\n",
    "if nome == 'Leon':\n",
    "    print('Acertou o nome')"
   ]
  },
  {
   "cell_type": "code",
   "execution_count": 19,
   "id": "d1a9ba24",
   "metadata": {},
   "outputs": [
    {
     "name": "stdout",
     "output_type": "stream",
     "text": [
      "o numero é impar\n"
     ]
    }
   ],
   "source": [
    "x = 10\n",
    "resto = x % 2\n",
    "if resto == 1:\n",
    "    print('o numero é par')\n",
    "else:\n",
    "    print('o numero é impar')"
   ]
  },
  {
   "cell_type": "code",
   "execution_count": 20,
   "id": "6ca56fcb",
   "metadata": {},
   "outputs": [
    {
     "name": "stdout",
     "output_type": "stream",
     "text": [
      "o numero é par\n"
     ]
    }
   ],
   "source": [
    "x = 10\n",
    "resto = x % 2\n",
    "if resto == 0:\n",
    "    print('o numero é par')\n",
    "else:\n",
    "    print('o numero é impar')"
   ]
  },
  {
   "cell_type": "code",
   "execution_count": 21,
   "id": "d9330a5d",
   "metadata": {},
   "outputs": [
    {
     "name": "stdout",
     "output_type": "stream",
     "text": [
      "Tirou MM\n"
     ]
    }
   ],
   "source": [
    "nota = 5\n",
    "if nota >= 9:\n",
    "    print('Tirou SS')\n",
    "elif nota >= 7:\n",
    "    print('Tirou MS')\n",
    "elif nota >= 5:\n",
    "    print('Tirou MM')\n",
    "else:\n",
    "    print('Tirou MI')\n"
   ]
  },
  {
   "cell_type": "code",
   "execution_count": 22,
   "id": "dc2eff16",
   "metadata": {},
   "outputs": [
    {
     "name": "stdout",
     "output_type": "stream",
     "text": [
      "Tirou MS\n"
     ]
    }
   ],
   "source": [
    "nota = 7.5\n",
    "if nota >= 9:\n",
    "    print('Tirou SS')\n",
    "elif nota >= 7:\n",
    "    print('Tirou MS')\n",
    "elif nota >= 5:\n",
    "    print('Tirou MM')\n",
    "else:\n",
    "    print('Tirou MI')"
   ]
  },
  {
   "cell_type": "code",
   "execution_count": 23,
   "id": "d02bd173",
   "metadata": {},
   "outputs": [
    {
     "name": "stdout",
     "output_type": "stream",
     "text": [
      "Tirou SS\n"
     ]
    }
   ],
   "source": [
    "nota = 10\n",
    "if nota >= 9:\n",
    "    print('Tirou SS')\n",
    "elif nota >= 7:\n",
    "    print('Tirou MS')\n",
    "elif nota >= 5:\n",
    "    print('Tirou MM')\n",
    "else:\n",
    "    print('Tirou MI')"
   ]
  },
  {
   "cell_type": "code",
   "execution_count": 24,
   "id": "1b8cc1ce",
   "metadata": {},
   "outputs": [],
   "source": [
    "#List comprehension:\n",
    "#Fazendo com FOR\n",
    "\n",
    "# - Caso 01: Dobrar o valor de um produto\n",
    "# - Caso 02: Todos os produtos que custarem a cima de 1000 dolares, imposto de 50% sobre o valor total"
   ]
  },
  {
   "cell_type": "code",
   "execution_count": 56,
   "id": "0c864e65",
   "metadata": {},
   "outputs": [],
   "source": [
    "lista_preços = [500, 1500, 2000, 100, 25]"
   ]
  },
  {
   "cell_type": "code",
   "execution_count": 57,
   "id": "b7c52b4d",
   "metadata": {},
   "outputs": [
    {
     "name": "stdout",
     "output_type": "stream",
     "text": [
      "[[500, 1500, 2000, 100, 25, 500, 1500, 2000, 100, 25], [500, 1500, 2000, 100, 25, 500, 1500, 2000, 100, 25], [500, 1500, 2000, 100, 25, 500, 1500, 2000, 100, 25], [500, 1500, 2000, 100, 25, 500, 1500, 2000, 100, 25], [500, 1500, 2000, 100, 25, 500, 1500, 2000, 100, 25]]\n"
     ]
    }
   ],
   "source": [
    "#Caso 01\n",
    "nova_lista_preços = []\n",
    "for preço in lista_preços:\n",
    "    nova_lista_preços.append(preços * 2)\n",
    "print(nova_lista)"
   ]
  },
  {
   "cell_type": "code",
   "execution_count": 58,
   "id": "13f85997",
   "metadata": {},
   "outputs": [],
   "source": [
    "#Fazendo com list comprehension:\n",
    "#caso 01\n",
    "nova_lista_preco2 = [preço * 2 for preço in lista_preços]\n"
   ]
  },
  {
   "cell_type": "code",
   "execution_count": 59,
   "id": "5ea9420b",
   "metadata": {},
   "outputs": [
    {
     "name": "stdout",
     "output_type": "stream",
     "text": [
      "[1000, 3000, 4000, 200, 50]\n"
     ]
    }
   ],
   "source": [
    "print(nova_lista_preco2)"
   ]
  },
  {
   "cell_type": "code",
   "execution_count": 63,
   "id": "5421aed7",
   "metadata": {},
   "outputs": [],
   "source": [
    "#Caso 02\n",
    "imposto = []\n",
    "for preço in lista_preços:\n",
    "    if preço > 1000:\n",
    "        imposto.append(preço * 0.5)\n",
    "       "
   ]
  },
  {
   "cell_type": "code",
   "execution_count": 64,
   "id": "761a43d2",
   "metadata": {},
   "outputs": [
    {
     "name": "stdout",
     "output_type": "stream",
     "text": [
      "[750.0, 1000.0]\n"
     ]
    }
   ],
   "source": [
    "print(imposto)"
   ]
  },
  {
   "cell_type": "code",
   "execution_count": 66,
   "id": "80d98ecf",
   "metadata": {},
   "outputs": [
    {
     "name": "stdout",
     "output_type": "stream",
     "text": [
      "[750.0, 1000.0]\n"
     ]
    }
   ],
   "source": [
    "#Fazendo com list comprehension:\n",
    "#caso 02\n",
    "imposto2 = [preço * 0.5 for preço in lista_preços if preço > 1000]\n",
    "print(imposto2)"
   ]
  },
  {
   "cell_type": "code",
   "execution_count": 1,
   "id": "99bc2003",
   "metadata": {},
   "outputs": [],
   "source": [
    "#Estrutura de repetição FOR\n",
    "# for <estrutura de repetição>:\n",
    "# <comandos a serem repetidos>"
   ]
  },
  {
   "cell_type": "code",
   "execution_count": 2,
   "id": "b2fdcd59",
   "metadata": {},
   "outputs": [
    {
     "name": "stdout",
     "output_type": "stream",
     "text": [
      "gol da alemanha\n",
      "gol da alemanha\n",
      "gol da alemanha\n",
      "gol da alemanha\n",
      "gol da alemanha\n",
      "gol da alemanha\n",
      "gol da alemanha\n",
      "gol do brasil\n"
     ]
    }
   ],
   "source": [
    "for i in range(7):\n",
    "    print('gol da alemanha')\n",
    "print('gol do brasil')    "
   ]
  },
  {
   "cell_type": "code",
   "execution_count": 6,
   "id": "217a998f",
   "metadata": {},
   "outputs": [
    {
     "data": {
      "text/plain": [
       "range(0, 7)"
      ]
     },
     "execution_count": 6,
     "metadata": {},
     "output_type": "execute_result"
    }
   ],
   "source": [
    "range(7)"
   ]
  },
  {
   "cell_type": "code",
   "execution_count": 7,
   "id": "1b5d02b3",
   "metadata": {},
   "outputs": [
    {
     "data": {
      "text/plain": [
       "[0, 1, 2, 3, 4, 5, 6]"
      ]
     },
     "execution_count": 7,
     "metadata": {},
     "output_type": "execute_result"
    }
   ],
   "source": [
    "list(range(7))"
   ]
  },
  {
   "cell_type": "code",
   "execution_count": 8,
   "id": "bf20b9e3",
   "metadata": {},
   "outputs": [],
   "source": [
    "#Para problemas de elementos em lista:\n",
    "# for elemento in lista:\n",
    "# <comandos a serem repetidos>"
   ]
  },
  {
   "cell_type": "code",
   "execution_count": 10,
   "id": "776cde0f",
   "metadata": {},
   "outputs": [
    {
     "name": "stdout",
     "output_type": "stream",
     "text": [
      "números\n",
      "números\n",
      "números\n",
      "números\n",
      "números\n"
     ]
    }
   ],
   "source": [
    "abcd = [1,2,3,4,5]\n",
    "for abcd in abcd:\n",
    "    print('números')"
   ]
  },
  {
   "cell_type": "code",
   "execution_count": 19,
   "id": "3cf6fbf2",
   "metadata": {},
   "outputs": [
    {
     "name": "stdout",
     "output_type": "stream",
     "text": [
      "davi\n",
      "carol\n",
      "gus\n",
      "joao\n"
     ]
    }
   ],
   "source": [
    "alunos = ['davi', 'carol', 'gus', 'joao']\n",
    "\n",
    "for aluno in alunos:\n",
    "    print(aluno)"
   ]
  },
  {
   "cell_type": "code",
   "execution_count": 20,
   "id": "dd722ae7",
   "metadata": {},
   "outputs": [],
   "source": [
    "#Dicionário"
   ]
  },
  {
   "cell_type": "code",
   "execution_count": 21,
   "id": "8cac25c4",
   "metadata": {},
   "outputs": [
    {
     "name": "stdout",
     "output_type": "stream",
     "text": [
      "davi\n",
      "maria\n"
     ]
    }
   ],
   "source": [
    "dict_alunos = {'davi':5, 'maria':10}\n",
    "for alunos in dict_alunos:\n",
    "    print(alunos)"
   ]
  },
  {
   "cell_type": "code",
   "execution_count": 22,
   "id": "e668189e",
   "metadata": {},
   "outputs": [
    {
     "name": "stdout",
     "output_type": "stream",
     "text": [
      "O(a) aluno(a) davi tirou nota 5 na prova\n",
      "O(a) aluno(a) maria tirou nota 10 na prova\n"
     ]
    }
   ],
   "source": [
    "for aluno, nota in dict_alunos.items():\n",
    "    print(f'O(a) aluno(a) {aluno} tirou nota {nota} na prova')"
   ]
  },
  {
   "cell_type": "code",
   "execution_count": 23,
   "id": "613e6bdf",
   "metadata": {},
   "outputs": [],
   "source": [
    "#Estrutura de repetição WHILE\n",
    "#While <condição para repetição>:\n",
    "#<comandos a serem repetidos>"
   ]
  },
  {
   "cell_type": "code",
   "execution_count": 24,
   "id": "bccae57b",
   "metadata": {},
   "outputs": [
    {
     "name": "stdout",
     "output_type": "stream",
     "text": [
      "Esse item não é camarão. Cade o Camarão!\n",
      "Esse item não é camarão. Cade o Camarão!\n",
      "Esse item não é camarão. Cade o Camarão!\n",
      "Esse item não é camarão. Cade o Camarão!\n"
     ]
    }
   ],
   "source": [
    "cardapio = ['filé', 'strognof', 'frango', 'bolinho de arroz', 'camarão', 'batata frita']\n",
    "item = cardapio.pop(0)\n",
    "\n",
    "while item != 'camarão':\n",
    "    print('Esse item não é camarão. Cade o Camarão!')\n",
    "    item = cardapio.pop(0)"
   ]
  },
  {
   "cell_type": "code",
   "execution_count": 36,
   "id": "404ef046",
   "metadata": {},
   "outputs": [],
   "source": [
    "#Funções em python\n",
    "#Estrutura:\n",
    "# def nomedafuncao(parametro1, parametro2, ...):\n",
    "   # corpodafuncao"
   ]
  },
  {
   "cell_type": "code",
   "execution_count": 40,
   "id": "3964828d",
   "metadata": {},
   "outputs": [],
   "source": [
    "def f(n):\n",
    "    print('o valor da função é', n)"
   ]
  },
  {
   "cell_type": "code",
   "execution_count": 42,
   "id": "e2ed3430",
   "metadata": {},
   "outputs": [
    {
     "name": "stdout",
     "output_type": "stream",
     "text": [
      "o valor da função é 10\n"
     ]
    }
   ],
   "source": [
    "f(10)"
   ]
  },
  {
   "cell_type": "code",
   "execution_count": null,
   "id": "15f252f2",
   "metadata": {},
   "outputs": [],
   "source": [
    "def parabens():\n",
    "    print('parabens parabens bens bens')"
   ]
  },
  {
   "cell_type": "code",
   "execution_count": 1,
   "id": "438d9f3f",
   "metadata": {},
   "outputs": [],
   "source": [
    "def somaQuadrados(a,b):\n",
    "    somaQ = a**2 + b**2\n",
    "    return somaQ"
   ]
  },
  {
   "cell_type": "code",
   "execution_count": 2,
   "id": "ef40919c",
   "metadata": {},
   "outputs": [
    {
     "data": {
      "text/plain": [
       "13"
      ]
     },
     "execution_count": 2,
     "metadata": {},
     "output_type": "execute_result"
    }
   ],
   "source": [
    "somaQuadrados(2,3)"
   ]
  },
  {
   "cell_type": "code",
   "execution_count": 3,
   "id": "7b620bd8",
   "metadata": {},
   "outputs": [],
   "source": [
    "#Expressões lambda - funções anonimas"
   ]
  },
  {
   "cell_type": "code",
   "execution_count": 10,
   "id": "995cbca8",
   "metadata": {},
   "outputs": [
    {
     "name": "stdout",
     "output_type": "stream",
     "text": [
      "100.0\n"
     ]
    }
   ],
   "source": [
    "preco = 500\n",
    "\n",
    "def calcular_imposto(preco):\n",
    "   return preco * 0.2\n",
    "\n",
    "print(calcular_imposto(preco))"
   ]
  },
  {
   "cell_type": "code",
   "execution_count": 14,
   "id": "e2120689",
   "metadata": {},
   "outputs": [
    {
     "name": "stdout",
     "output_type": "stream",
     "text": [
      "100.0\n"
     ]
    }
   ],
   "source": [
    "#Função lambda\n",
    "calcular_imposto2 = lambda preco: preco * 0.2\n",
    "\n",
    "print(calcular_imposto2(preco))"
   ]
  },
  {
   "cell_type": "code",
   "execution_count": 30,
   "id": "128a1745",
   "metadata": {},
   "outputs": [
    {
     "name": "stdout",
     "output_type": "stream",
     "text": [
      "[0.2, 2.0, 4.0, 6.0, 30.0]\n"
     ]
    }
   ],
   "source": [
    "#Função lambda com lista de preços:\n",
    "\n",
    "preco2 = [1, 10, 20, 30, 150]\n",
    "\n",
    "calcular_imposto3 = list(map(lambda x: x*0.2, preco2))\n",
    "print(calcular_imposto3)"
   ]
  },
  {
   "cell_type": "markdown",
   "id": "53db382a",
   "metadata": {},
   "source": [
    "# Parte 02-\n",
    "\n",
    "### Bibliotecas e numpy:"
   ]
  },
  {
   "cell_type": "markdown",
   "id": "dba111ea",
   "metadata": {},
   "source": [
    "## Bibliotecas:"
   ]
  },
  {
   "cell_type": "code",
   "execution_count": 34,
   "id": "5cdd4714",
   "metadata": {},
   "outputs": [
    {
     "data": {
      "text/plain": [
       "datetime.date(2022, 7, 20)"
      ]
     },
     "execution_count": 34,
     "metadata": {},
     "output_type": "execute_result"
    }
   ],
   "source": [
    "### Exemplos:\n",
    "import math\n",
    "math.factorial(5)\n",
    "\n",
    "import datetime\n",
    "datetime.date.today()"
   ]
  },
  {
   "cell_type": "code",
   "execution_count": 37,
   "id": "689b5bf8",
   "metadata": {},
   "outputs": [
    {
     "data": {
      "text/plain": [
       "20"
      ]
     },
     "execution_count": 37,
     "metadata": {},
     "output_type": "execute_result"
    }
   ],
   "source": [
    "## As funções possuem atributos:\n",
    "datetime.date.today().day"
   ]
  },
  {
   "cell_type": "code",
   "execution_count": 40,
   "id": "2b4f690b",
   "metadata": {},
   "outputs": [
    {
     "data": {
      "text/plain": [
       "'2022-07-20'"
      ]
     },
     "execution_count": 40,
     "metadata": {},
     "output_type": "execute_result"
    }
   ],
   "source": [
    "datetime.date.isoformat(datetime.date.today()) ##Transformando a data"
   ]
  },
  {
   "cell_type": "code",
   "execution_count": 43,
   "id": "09100096",
   "metadata": {},
   "outputs": [
    {
     "data": {
      "text/plain": [
       "'2022-07-20'"
      ]
     },
     "execution_count": 43,
     "metadata": {},
     "output_type": "execute_result"
    }
   ],
   "source": [
    "## Importando apenas o modulo\n",
    "from datetime import date\n",
    "date.isoformat(date.today())"
   ]
  },
  {
   "cell_type": "markdown",
   "id": "2055e89a",
   "metadata": {},
   "source": [
    "## Numpy:"
   ]
  },
  {
   "cell_type": "code",
   "execution_count": 44,
   "id": "b673853d",
   "metadata": {},
   "outputs": [],
   "source": [
    "## Importação\n",
    "import numpy as np"
   ]
  },
  {
   "cell_type": "markdown",
   "id": "83a5315b",
   "metadata": {},
   "source": [
    "### O que é um array:\n"
   ]
  },
  {
   "cell_type": "code",
   "execution_count": 45,
   "id": "d3a0c301",
   "metadata": {},
   "outputs": [],
   "source": [
    "## ndarrays: N dimensões de arrays\n",
    "\n",
    "#1-D array: possuí apenas uma dimensão, será chamado de vetor\n",
    "#2-D array: possuí duas dimensões, será chamado de matriz\n",
    "#3-D array ou mais: possui 3 dimensões ou mais, será chamado de tensor"
   ]
  },
  {
   "cell_type": "code",
   "execution_count": 47,
   "id": "4e460f95",
   "metadata": {},
   "outputs": [
    {
     "name": "stdout",
     "output_type": "stream",
     "text": [
      "[1 2 3 4 5]\n"
     ]
    },
    {
     "data": {
      "text/plain": [
       "numpy.ndarray"
      ]
     },
     "execution_count": 47,
     "metadata": {},
     "output_type": "execute_result"
    }
   ],
   "source": [
    "# Criando um array\n",
    "a = np.array([1,2,3,4,5])\n",
    "print(a)\n",
    "type(a)"
   ]
  },
  {
   "cell_type": "code",
   "execution_count": 49,
   "id": "e1079af8",
   "metadata": {},
   "outputs": [
    {
     "name": "stdout",
     "output_type": "stream",
     "text": [
      "[[ 1  2  3  4]\n",
      " [10 20 30 30]]\n"
     ]
    }
   ],
   "source": [
    "b = np.array([[1,2,3,4], [10,20,30,30]])\n",
    "print(b)"
   ]
  },
  {
   "cell_type": "code",
   "execution_count": 52,
   "id": "657566ac",
   "metadata": {},
   "outputs": [
    {
     "name": "stdout",
     "output_type": "stream",
     "text": [
      "[[[0. 0. 0. 0. 0. 0.]\n",
      "  [0. 0. 0. 0. 0. 0.]\n",
      "  [0. 0. 0. 0. 0. 0.]]\n",
      "\n",
      " [[0. 0. 0. 0. 0. 0.]\n",
      "  [0. 0. 0. 0. 0. 0.]\n",
      "  [0. 0. 0. 0. 0. 0.]]\n",
      "\n",
      " [[0. 0. 0. 0. 0. 0.]\n",
      "  [0. 0. 0. 0. 0. 0.]\n",
      "  [0. 0. 0. 0. 0. 0.]]\n",
      "\n",
      " [[0. 0. 0. 0. 0. 0.]\n",
      "  [0. 0. 0. 0. 0. 0.]\n",
      "  [0. 0. 0. 0. 0. 0.]]\n",
      "\n",
      " [[0. 0. 0. 0. 0. 0.]\n",
      "  [0. 0. 0. 0. 0. 0.]\n",
      "  [0. 0. 0. 0. 0. 0.]]]\n"
     ]
    }
   ],
   "source": [
    "zero_array = np.zeros(shape = (5,3,6))\n",
    "print(zero_array)"
   ]
  },
  {
   "cell_type": "code",
   "execution_count": 54,
   "id": "0f6234fc",
   "metadata": {},
   "outputs": [
    {
     "name": "stdout",
     "output_type": "stream",
     "text": [
      "[1.39422063e-311 0.00000000e+000 4.94065646e-324]\n"
     ]
    }
   ],
   "source": [
    "##NP.empty\n",
    "vazio = np.empty(3)  ##Fornece numeros aleatórios para três dimensões que nao estão vazias\n",
    "print(vazio)"
   ]
  },
  {
   "cell_type": "code",
   "execution_count": 59,
   "id": "9546a1ab",
   "metadata": {},
   "outputs": [
    {
     "name": "stdout",
     "output_type": "stream",
     "text": [
      "[1 2 3 4 5 6 7 8 9]\n"
     ]
    }
   ],
   "source": [
    "##NP.arange\n",
    "\n",
    "arr = np.arange(1,10)\n",
    "print(arr)"
   ]
  },
  {
   "cell_type": "code",
   "execution_count": 61,
   "id": "2fee0cf3",
   "metadata": {},
   "outputs": [
    {
     "name": "stdout",
     "output_type": "stream",
     "text": [
      "[ 0.  5. 10. 15. 20. 25. 30. 35. 40. 45. 50. 55. 60. 65. 70. 75. 80. 85.\n",
      " 90. 95.]\n"
     ]
    }
   ],
   "source": [
    "##NP.linspace\n",
    "array_linear = np.linspace(0, 100, num = 20, endpoint = False)\n",
    "print(array_linear)"
   ]
  },
  {
   "cell_type": "code",
   "execution_count": 63,
   "id": "c1047726",
   "metadata": {},
   "outputs": [
    {
     "name": "stdout",
     "output_type": "stream",
     "text": [
      "[  0.           5.26315789  10.52631579  15.78947368  21.05263158\n",
      "  26.31578947  31.57894737  36.84210526  42.10526316  47.36842105\n",
      "  52.63157895  57.89473684  63.15789474  68.42105263  73.68421053\n",
      "  78.94736842  84.21052632  89.47368421  94.73684211 100.        ]\n"
     ]
    }
   ],
   "source": [
    "array_linear = np.linspace(0, 100, num = 20, endpoint = True)\n",
    "print(array_linear)  ## Com True ele considera o 100"
   ]
  },
  {
   "cell_type": "code",
   "execution_count": 66,
   "id": "baa3947d",
   "metadata": {},
   "outputs": [
    {
     "name": "stdout",
     "output_type": "stream",
     "text": [
      "(20,)\n",
      "20\n",
      "1\n"
     ]
    }
   ],
   "source": [
    "## Desconbrindo o tamanho do array:\n",
    "print(array_linear.shape)\n",
    "print(array_linear.size)\n",
    "print(array_linear.ndim)"
   ]
  },
  {
   "cell_type": "markdown",
   "id": "b4857bb5",
   "metadata": {},
   "source": [
    "#### Transformando um vetor 1-D em uma matrix(2-D)"
   ]
  },
  {
   "cell_type": "code",
   "execution_count": 69,
   "id": "6a8b8245",
   "metadata": {},
   "outputs": [
    {
     "name": "stdout",
     "output_type": "stream",
     "text": [
      "(3,)\n",
      "1\n"
     ]
    }
   ],
   "source": [
    "a = np.array([1,2,3])\n",
    "print(a.shape)\n",
    "print(a.ndim)"
   ]
  },
  {
   "cell_type": "code",
   "execution_count": 71,
   "id": "91d5922e",
   "metadata": {},
   "outputs": [
    {
     "name": "stdout",
     "output_type": "stream",
     "text": [
      "(1, 3)\n",
      "2\n",
      "[[1 2 3]]\n"
     ]
    }
   ],
   "source": [
    "a2 = np.array(a[np.newaxis, :])\n",
    "print(a2.shape)\n",
    "print(a2.ndim)\n",
    "print(a2)"
   ]
  },
  {
   "cell_type": "markdown",
   "id": "4c27f4b0",
   "metadata": {},
   "source": [
    "#### Concatenando arrays"
   ]
  },
  {
   "cell_type": "code",
   "execution_count": 74,
   "id": "ddb70424",
   "metadata": {},
   "outputs": [
    {
     "name": "stdout",
     "output_type": "stream",
     "text": [
      "[ 1  2  3  4  5  6  7  9 10]\n",
      "[ 5  6  7  9 10  1  2  3  4]\n"
     ]
    }
   ],
   "source": [
    "a = np.array([1,2,3,4])\n",
    "b = np.array([5,6,7,9,10])\n",
    "c = np.concatenate((a,b))\n",
    "d = np.concatenate((b,a))\n",
    "print(c)\n",
    "print(d)"
   ]
  },
  {
   "cell_type": "markdown",
   "id": "defdb5e1",
   "metadata": {},
   "source": [
    "#### Consultando itens de um array:"
   ]
  },
  {
   "cell_type": "code",
   "execution_count": 80,
   "id": "2fe5b838",
   "metadata": {},
   "outputs": [
    {
     "name": "stdout",
     "output_type": "stream",
     "text": [
      "[[ 1  2  3  4]\n",
      " [ 5  6  7  8]\n",
      " [20 40 50 60]]\n",
      "--------------------\n",
      "[ 2  4  6  8 20 40 50 60]\n"
     ]
    }
   ],
   "source": [
    "a = np.array([[1,2,3,4], [5,6,7,8], [20,40,50,60]])\n",
    "print(a)\n",
    "print('--------------------')\n",
    "maior_8 = a[a%2==0]\n",
    "print(maior_8)"
   ]
  },
  {
   "cell_type": "markdown",
   "id": "fa7e9978",
   "metadata": {},
   "source": [
    "#### Operações com arrays:"
   ]
  },
  {
   "cell_type": "code",
   "execution_count": 82,
   "id": "0c7e5c41",
   "metadata": {},
   "outputs": [
    {
     "name": "stdout",
     "output_type": "stream",
     "text": [
      "10\n",
      "1\n",
      "4\n",
      "2.5\n"
     ]
    }
   ],
   "source": [
    "a = np.array([1,2,3,4])\n",
    "print(a.sum())\n",
    "print(a.min())\n",
    "print(a.max())\n",
    "print(a.mean())"
   ]
  },
  {
   "cell_type": "markdown",
   "id": "9521dcba",
   "metadata": {},
   "source": [
    "#### Gerando amostras aleatorias:"
   ]
  },
  {
   "cell_type": "code",
   "execution_count": 83,
   "id": "0ffb3cae",
   "metadata": {},
   "outputs": [],
   "source": [
    "from numpy.random import default_rng\n"
   ]
  },
  {
   "cell_type": "code",
   "execution_count": 86,
   "id": "df561d33",
   "metadata": {},
   "outputs": [
    {
     "name": "stdout",
     "output_type": "stream",
     "text": [
      "[[10  5 11 15]\n",
      " [ 7  1 12  1]]\n"
     ]
    }
   ],
   "source": [
    "rng = default_rng()\n",
    "aleatorio = rng.integers(20, size= (2,4))\n",
    "print(aleatorio)"
   ]
  },
  {
   "cell_type": "code",
   "execution_count": 88,
   "id": "40cd0eaa",
   "metadata": {},
   "outputs": [
    {
     "name": "stdout",
     "output_type": "stream",
     "text": [
      "<class 'bool'>\n"
     ]
    }
   ],
   "source": [
    "a = True\n",
    "print(type(a))"
   ]
  }
 ],
 "metadata": {
  "kernelspec": {
   "display_name": "Python 3 (ipykernel)",
   "language": "python",
   "name": "python3"
  },
  "language_info": {
   "codemirror_mode": {
    "name": "ipython",
    "version": 3
   },
   "file_extension": ".py",
   "mimetype": "text/x-python",
   "name": "python",
   "nbconvert_exporter": "python",
   "pygments_lexer": "ipython3",
   "version": "3.9.12"
  }
 },
 "nbformat": 4,
 "nbformat_minor": 5
}
