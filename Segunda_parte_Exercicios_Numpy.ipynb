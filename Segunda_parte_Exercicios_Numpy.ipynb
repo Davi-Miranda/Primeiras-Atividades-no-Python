{
 "cells": [
  {
   "cell_type": "markdown",
   "id": "259cff2d",
   "metadata": {},
   "source": [
    "# Exercicíos Python\n",
    "\n",
    "## Bibliotecas e Numpy:"
   ]
  },
  {
   "cell_type": "code",
   "execution_count": 1,
   "id": "731cf3f1",
   "metadata": {},
   "outputs": [],
   "source": [
    "### 01- Para que serve o PIP no Python?\n",
    "# O PIP serve para atualizar, as bibliotecas dentro do python, através dele você insere as bibliotecas e também realiza atualizações"
   ]
  },
  {
   "cell_type": "code",
   "execution_count": 3,
   "id": "d3f8f948",
   "metadata": {},
   "outputs": [
    {
     "name": "stdout",
     "output_type": "stream",
     "text": [
      "<class 'numpy.ndarray'>\n"
     ]
    }
   ],
   "source": [
    "### 02- Crie um array com 10 números no formato float. Converta-os para o formato inteiro.\n",
    "\n",
    "# Importando a biblioteca numpy\n",
    "import numpy as np\n",
    "\n",
    "# Criando o array\n",
    "array_1 = np.array([0.1,0.2,0.3,0.4,0.5,0.6,0.7,0.8,0.9,1.27])\n",
    "print(type(array_1))\n"
   ]
  },
  {
   "cell_type": "code",
   "execution_count": 10,
   "id": "feed928a",
   "metadata": {},
   "outputs": [
    {
     "name": "stdout",
     "output_type": "stream",
     "text": [
      "[0 0 0 0 0 0 0 0 0 1]\n"
     ]
    }
   ],
   "source": [
    "#Convertendo para inteiro\n",
    "import numpy as np\n",
    "\n",
    "array_1 = np.asarray(array_1, dtype = int)\n",
    "print(array_1)"
   ]
  },
  {
   "cell_type": "code",
   "execution_count": 12,
   "id": "80fd32e5",
   "metadata": {},
   "outputs": [
    {
     "data": {
      "text/plain": [
       "array([[ True, False,  True],\n",
       "       [ True,  True,  True],\n",
       "       [False, False, False]])"
      ]
     },
     "execution_count": 12,
     "metadata": {},
     "output_type": "execute_result"
    }
   ],
   "source": [
    "### 03- Converta o array abaixo para o formato booleano.\n",
    "import numpy as np\n",
    "a = np.array([[1,0,1],[1,1,1],[0,0,0]])\n",
    "a.astype(bool)"
   ]
  },
  {
   "cell_type": "code",
   "execution_count": 16,
   "id": "0077856a",
   "metadata": {},
   "outputs": [
    {
     "name": "stdout",
     "output_type": "stream",
     "text": [
      "Vertical stacking:\n",
      " [[10 20 15]\n",
      " [ 0  0 20]\n",
      " [15  7  3]\n",
      " [ 5  5  8]]\n"
     ]
    }
   ],
   "source": [
    "### 04- Empilhe horizontalmente os arrays abaixo.\n",
    "a = np.array([[10,20,15],[0,0,20]])\n",
    "b = np.array([[15,7,3],[5,5,8]])\n",
    "print('Vertical stacking:\\n', np.vstack((a, b)))"
   ]
  },
  {
   "cell_type": "code",
   "execution_count": 18,
   "id": "06bc21a2",
   "metadata": {},
   "outputs": [
    {
     "name": "stdout",
     "output_type": "stream",
     "text": [
      "Horizontal stacking:\n",
      " [[10 20 15 15  7  3]\n",
      " [ 0  0 20  5  5  8]]\n"
     ]
    }
   ],
   "source": [
    "### 05- Empilhe verticalmente os arrays do exercício 15.\n",
    "a = np.array([[10,20,15],[0,0,20]])\n",
    "b = np.array([[15,7,3],[5,5,8]])\n",
    "print('Horizontal stacking:\\n', np.hstack((a, b)))\n"
   ]
  },
  {
   "cell_type": "code",
   "execution_count": 32,
   "id": "92a99e11",
   "metadata": {},
   "outputs": [
    {
     "name": "stdout",
     "output_type": "stream",
     "text": [
      "<class 'numpy.ndarray'>\n",
      "[  0   2   4   6   8  10  12  14  16  18  20  22  24  26  28  30  32  34\n",
      "  36  38  40  42  44  46  48  50  52  54  56  58  60  62  64  66  68  70\n",
      "  72  74  76  78  80  82  84  86  88  90  92  94  96  98 100]\n",
      "[0, 2, 4, 6, 8, 10, 12, 14, 16, 18, 20, 22, 24, 26, 28, 30, 32, 34, 36, 38, 40, 42, 44, 46, 48, 50, 52, 54, 56, 58, 60, 62, 64, 66, 68, 70, 72, 74, 76, 78, 80, 82, 84, 86, 88, 90, 92, 94, 96, 98, 100]\n",
      "<class 'list'>\n"
     ]
    }
   ],
   "source": [
    "### 06- Gere uma lista de números inteiros que vão de 0 a 100, de 2 em 2, e, na sequência, converta essa lista em um array.\n",
    "import numpy as np\n",
    "a = list(range(0, 101, 2))\n",
    "ab = np.asarray(a)\n",
    "print(type(ab))\n",
    "print(ab)\n",
    "print(a)\n",
    "print(type(a))"
   ]
  },
  {
   "cell_type": "code",
   "execution_count": 48,
   "id": "3c38fb14",
   "metadata": {},
   "outputs": [
    {
     "name": "stdout",
     "output_type": "stream",
     "text": [
      "[ 5.   5.5  6.   6.5  7.   7.5  8.   8.5  9.   9.5 10. ]\n",
      "[5.0, 5.5, 6.0, 6.5, 7.0, 7.5, 8.0, 8.5, 9.0, 9.5, 10.0]\n"
     ]
    },
    {
     "data": {
      "text/plain": [
       "list"
      ]
     },
     "execution_count": 48,
     "metadata": {},
     "output_type": "execute_result"
    }
   ],
   "source": [
    "### 07- Gere uma lista de valores que vão de 5 a 10 de 0.5 em 0.5.\n",
    "import numpy as np\n",
    "lista_a = np.arange(5, 10.5, 0.5)\n",
    "lista_a_trans = list(lista_a)\n",
    "\n",
    "print(lista_a)\n",
    "type(lista_a)\n",
    "print(lista_a_trans)\n",
    "type(lista_a_trans)"
   ]
  },
  {
   "cell_type": "code",
   "execution_count": null,
   "id": "7b9e5223",
   "metadata": {},
   "outputs": [],
   "source": [
    "### 08- "
   ]
  }
 ],
 "metadata": {
  "kernelspec": {
   "display_name": "Python 3 (ipykernel)",
   "language": "python",
   "name": "python3"
  },
  "language_info": {
   "codemirror_mode": {
    "name": "ipython",
    "version": 3
   },
   "file_extension": ".py",
   "mimetype": "text/x-python",
   "name": "python",
   "nbconvert_exporter": "python",
   "pygments_lexer": "ipython3",
   "version": "3.9.12"
  }
 },
 "nbformat": 4,
 "nbformat_minor": 5
}
